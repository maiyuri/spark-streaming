{
 "cells": [
  {
   "attachments": {},
   "cell_type": "markdown",
   "id": "e41f115f",
   "metadata": {},
   "source": [
    "# Import das bibliotecas"
   ]
  },
  {
   "cell_type": "code",
   "execution_count": 1,
   "id": "5fc7116a-0c13-4fa4-8a8c-2365ccec572d",
   "metadata": {},
   "outputs": [],
   "source": [
    "from pyspark.sql import SparkSession\n",
    "from pyspark.sql.functions import *\n",
    "from pyspark.sql.types import *\n",
    "from random import randint\n",
    "\n",
    "KAFKA_TOPIC_NAME = \"test\"\n",
    "KAFKA_TOPIC_SINK_NAME = \"sink\"\n",
    "KAFKA_BOOTSTRAP_SERVERS = \"kafka:9092\"\n",
    "# CHECKPOINT_LOCATION = \"LOCAL DIRECTORY LOCATION (FOR DEBUGGING PURPOSES)\"\n",
    "CHECKPOINT_LOCATION = \"/home/jovyan/work/tmp\"\n"
   ]
  },
  {
   "attachments": {},
   "cell_type": "markdown",
   "id": "ba00a2af",
   "metadata": {},
   "source": [
    "# Criação de sessão spark"
   ]
  },
  {
   "cell_type": "code",
   "execution_count": 2,
   "id": "5e355ca4-bd75-42c8-bea1-9b0c1c16f47d",
   "metadata": {},
   "outputs": [],
   "source": [
    "scala_version = '2.12'\n",
    "spark_version = '3.2.1'\n",
    "kafka_version = '3.3.1'\n",
    "\n",
    "packages = [\n",
    "    f'org.apache.spark:spark-sql-kafka-0-10_{scala_version}:{spark_version}',\n",
    "    f'org.apache.kafka:kafka-clients:{kafka_version}',\n",
    "    'org.xerial:sqlite-jdbc:3.34.0'\n",
    "]\n",
    "\n",
    "spark = (\n",
    "    SparkSession.builder.appName(\"PysparkKafkaStreaming\")\n",
    "    .master(\"local[*]\")\n",
    "    .config(\"spark.jars.packages\", \",\".join(packages))\n",
    "    .getOrCreate()\n",
    ") \n",
    "spark.sparkContext.setLogLevel(\"ERROR\")"
   ]
  },
  {
   "attachments": {},
   "cell_type": "markdown",
   "id": "2a25e6c6",
   "metadata": {},
   "source": [
    "# Criação connection com SQLite"
   ]
  },
  {
   "cell_type": "code",
   "execution_count": 3,
   "id": "855b4691",
   "metadata": {},
   "outputs": [],
   "source": [
    "from sqlalchemy import create_engine\n",
    "\n",
    "engine = create_engine('sqlite:////home/jovyan/work/database/database.db', echo=False)\n"
   ]
  },
  {
   "attachments": {},
   "cell_type": "markdown",
   "id": "698495b8",
   "metadata": {},
   "source": [
    "# Criação da tabela clientes"
   ]
  },
  {
   "cell_type": "code",
   "execution_count": 4,
   "id": "994011aa",
   "metadata": {},
   "outputs": [
    {
     "data": {
      "text/plain": [
       "<sqlalchemy.engine.cursor.LegacyCursorResult at 0x7f45c3f6b730>"
      ]
     },
     "execution_count": 4,
     "metadata": {},
     "output_type": "execute_result"
    }
   ],
   "source": [
    "engine.execute('''drop table if exists tb_clientes''')"
   ]
  },
  {
   "cell_type": "code",
   "execution_count": 7,
   "id": "0b98c399",
   "metadata": {},
   "outputs": [
    {
     "data": {
      "text/plain": [
       "<sqlalchemy.engine.cursor.LegacyCursorResult at 0x7f45c3f6a050>"
      ]
     },
     "execution_count": 7,
     "metadata": {},
     "output_type": "execute_result"
    }
   ],
   "source": [
    "engine.execute('''CREATE TABLE if not exists tb_clientes (\n",
    "        codigo_cliente int null,\n",
    "        nome varchar(500) null,\n",
    "        idade int null,\n",
    "        gerente_conta varchar(500) null,\n",
    "        conta_corrente varchar(500) null,\n",
    "        tipo_conta varchar(500) null,\n",
    "        score int null\n",
    "    )''')\n"
   ]
  },
  {
   "attachments": {},
   "cell_type": "markdown",
   "id": "ce46cff8",
   "metadata": {},
   "source": [
    "# Função para gerar dados"
   ]
  },
  {
   "cell_type": "code",
   "execution_count": 8,
   "id": "47101347",
   "metadata": {},
   "outputs": [],
   "source": [
    "def gen_data(qtd_data):\n",
    "    datas = []\n",
    "    for i in range(qtd_data):\n",
    "        datas.append([\n",
    "            i,\n",
    "            f'Nome {i}',\n",
    "            randint(0, 100),\n",
    "            f'Gerente {i}',\n",
    "            f'{i}0{i}00{i}000{i}',\n",
    "            ['Chefão', 'Ricão', 'Povão'][randint(0,2)],\n",
    "            randint(0, 1000)\n",
    "        ])\n",
    "    return datas\n"
   ]
  },
  {
   "cell_type": "code",
   "execution_count": 9,
   "id": "a3a4fe4c",
   "metadata": {},
   "outputs": [
    {
     "name": "stdout",
     "output_type": "stream",
     "text": [
      "+--------------+------+-----+-------------+--------------+----------+-----+\n",
      "|codigo_cliente|  nome|idade|gerente_conta|conta_corrente|tipo_conta|score|\n",
      "+--------------+------+-----+-------------+--------------+----------+-----+\n",
      "|             0|Nome 0|   20|    Gerente 0|    0000000000|     Ricão|  232|\n",
      "|             1|Nome 1|   57|    Gerente 1|    1010010001|     Povão|  911|\n",
      "|             2|Nome 2|   45|    Gerente 2|    2020020002|    Chefão|  674|\n",
      "|             3|Nome 3|   56|    Gerente 3|    3030030003|     Povão|  547|\n",
      "|             4|Nome 4|   56|    Gerente 4|    4040040004|    Chefão|  674|\n",
      "|             5|Nome 5|   11|    Gerente 5|    5050050005|    Chefão|  914|\n",
      "|             6|Nome 6|   44|    Gerente 6|    6060060006|     Povão|  643|\n",
      "|             7|Nome 7|    7|    Gerente 7|    7070070007|     Ricão|  894|\n",
      "|             8|Nome 8|   28|    Gerente 8|    8080080008|     Povão|  691|\n",
      "|             9|Nome 9|    5|    Gerente 9|    9090090009|     Povão|  707|\n",
      "+--------------+------+-----+-------------+--------------+----------+-----+\n",
      "\n"
     ]
    }
   ],
   "source": [
    "# giving column names of dataframe\n",
    "columns = [\"codigo_cliente\", \"nome\", \"idade\", \"gerente_conta\", \"conta_corrente\", \"tipo_conta\", \"score\"]\n",
    "  \n",
    "# creating a dataframe\n",
    "dataframe_to_save = spark.createDataFrame(gen_data(10), columns)\n",
    "  \n",
    "# show data frame\n",
    "dataframe_to_save.show()"
   ]
  },
  {
   "attachments": {},
   "cell_type": "markdown",
   "id": "6277a1e4",
   "metadata": {},
   "source": [
    "# Gravando no SQLite"
   ]
  },
  {
   "cell_type": "code",
   "execution_count": 10,
   "id": "22b868fd",
   "metadata": {},
   "outputs": [],
   "source": [
    "dataframe_to_save.write.format('jdbc') \\\n",
    "        .mode(\"overwrite\") \\\n",
    "        .options(driver='org.sqlite.JDBC', dbtable='tb_clientes',\n",
    "                 url='jdbc:sqlite:/home/jovyan/work/database/database.db') \\\n",
    "        .save()\n"
   ]
  },
  {
   "attachments": {},
   "cell_type": "markdown",
   "id": "91e5f4f0",
   "metadata": {},
   "source": [
    "# Lendo dados do SQLite"
   ]
  },
  {
   "cell_type": "code",
   "execution_count": 12,
   "id": "c6545a57",
   "metadata": {},
   "outputs": [],
   "source": [
    "dataframe_read_from_sqlite = spark.read.format('jdbc') \\\n",
    "        .options(driver='org.sqlite.JDBC', dbtable='tb_clientes',\n",
    "                 url='jdbc:sqlite:/home/jovyan/work/database/database.db') \\\n",
    "        .load()"
   ]
  },
  {
   "cell_type": "code",
   "execution_count": 13,
   "id": "6ffafd76",
   "metadata": {},
   "outputs": [
    {
     "name": "stdout",
     "output_type": "stream",
     "text": [
      "+--------------+------+-----+-------------+--------------+----------+-----+\n",
      "|codigo_cliente|  nome|idade|gerente_conta|conta_corrente|tipo_conta|score|\n",
      "+--------------+------+-----+-------------+--------------+----------+-----+\n",
      "|             0|Nome 0|   20|    Gerente 0|    0000000000|     Ricão|  232|\n",
      "|             1|Nome 1|   57|    Gerente 1|    1010010001|     Povão|  911|\n",
      "|             6|Nome 6|   44|    Gerente 6|    6060060006|     Povão|  643|\n",
      "|             7|Nome 7|    7|    Gerente 7|    7070070007|     Ricão|  894|\n",
      "|             8|Nome 8|   28|    Gerente 8|    8080080008|     Povão|  691|\n",
      "|             9|Nome 9|    5|    Gerente 9|    9090090009|     Povão|  707|\n",
      "|             2|Nome 2|   45|    Gerente 2|    2020020002|    Chefão|  674|\n",
      "|             3|Nome 3|   56|    Gerente 3|    3030030003|     Povão|  547|\n",
      "|             4|Nome 4|   56|    Gerente 4|    4040040004|    Chefão|  674|\n",
      "|             5|Nome 5|   11|    Gerente 5|    5050050005|    Chefão|  914|\n",
      "+--------------+------+-----+-------------+--------------+----------+-----+\n",
      "\n"
     ]
    }
   ],
   "source": [
    "dataframe_read_from_sqlite.show()"
   ]
  },
  {
   "attachments": {},
   "cell_type": "markdown",
   "id": "d25dafbe",
   "metadata": {},
   "source": [
    "# Função resposável para enriquecer os dados de cliente e publicar no tópico sink"
   ]
  },
  {
   "cell_type": "code",
   "execution_count": 14,
   "id": "e44c3ede",
   "metadata": {},
   "outputs": [],
   "source": [
    "def join_cliente_detalhes(df, batchID):\n",
    "    if df.count()>0:\n",
    "            df.join(dataframe_read_from_sqlite, on='codigo_cliente', how='left') \\\n",
    "            .select(to_json(struct(col(\"*\"))).alias(\"value\")) \\\n",
    "            .write \\\n",
    "            .format(\"kafka\") \\\n",
    "            .option(\"kafka.bootstrap.servers\", KAFKA_BOOTSTRAP_SERVERS) \\\n",
    "            .option(\"topic\", KAFKA_TOPIC_SINK_NAME) \\\n",
    "            .save()\n",
    "    return df"
   ]
  },
  {
   "attachments": {},
   "cell_type": "markdown",
   "id": "2d34e3a1",
   "metadata": {},
   "source": [
    "# Consumindo o que esta dentro do tópico test"
   ]
  },
  {
   "cell_type": "code",
   "execution_count": 15,
   "id": "35ba14f2",
   "metadata": {},
   "outputs": [],
   "source": [
    "df_kfk = (\n",
    "    spark.readStream.format(\"kafka\")\n",
    "    .option(\"kafka.bootstrap.servers\", KAFKA_BOOTSTRAP_SERVERS)\n",
    "    .option(\"subscribe\", KAFKA_TOPIC_NAME)\n",
    "    .option(\"startingOffsets\", \"latest\")\n",
    "    .load()\n",
    ")\n"
   ]
  },
  {
   "attachments": {},
   "cell_type": "markdown",
   "id": "9be41840",
   "metadata": {},
   "source": [
    "# Definindo schema da mensagem do tópico test"
   ]
  },
  {
   "cell_type": "code",
   "execution_count": 16,
   "id": "424dc3ae-0e2c-4568-aef5-757bfce32238",
   "metadata": {},
   "outputs": [],
   "source": [
    "_schema = (\n",
    "    StructType()\n",
    "    .add(\"codigo_cliente\", StringType())\n",
    "    .add('agencia', StringType())\n",
    "    .add('valor_operacao', LongType())\n",
    "    .add('tipo_operacao', StringType())\n",
    "    .add('data', StringType())\n",
    "    .add('saldo_conta', LongType())\n",
    ")\n",
    "\n",
    "df_base = df_kfk.selectExpr(\"CAST(key AS STRING)\", \"CAST(value as STRING)\", \"timestamp\")\n",
    "df_base = df_base.select(from_json(col(\"value\"), _schema).alias(\"values\"), \"timestamp\")\n",
    "df_base = df_base.select(\"values.*\")"
   ]
  },
  {
   "attachments": {},
   "cell_type": "markdown",
   "id": "ecc3b9d3",
   "metadata": {},
   "source": [
    "# Iniciando consumer kafka do tópico test"
   ]
  },
  {
   "cell_type": "code",
   "execution_count": 17,
   "id": "8e1d4fba",
   "metadata": {},
   "outputs": [],
   "source": [
    "\n",
    "stream_final = df_base \\\n",
    "    .writeStream \\\n",
    "    .format(\"kafka\") \\\n",
    "    .option(\"kafka.bootstrap.servers\", KAFKA_BOOTSTRAP_SERVERS) \\\n",
    "    .option(\"topic\", KAFKA_TOPIC_SINK_NAME) \\\n",
    "    .option(\"checkpointLocation\", CHECKPOINT_LOCATION) \\\n",
    "    .foreachBatch(join_cliente_detalhes) \\\n",
    "    .outputMode(\"append\") \\\n",
    "    .start()"
   ]
  }
 ],
 "metadata": {
  "kernelspec": {
   "display_name": "Python 3 (ipykernel)",
   "language": "python",
   "name": "python3"
  },
  "language_info": {
   "codemirror_mode": {
    "name": "ipython",
    "version": 3
   },
   "file_extension": ".py",
   "mimetype": "text/x-python",
   "name": "python",
   "nbconvert_exporter": "python",
   "pygments_lexer": "ipython3",
   "version": "3.10.8"
  },
  "vscode": {
   "interpreter": {
    "hash": "31f2aee4e71d21fbe5cf8b01ff0e069b9275f58929596ceb00d14d90e3e16cd6"
   }
  }
 },
 "nbformat": 4,
 "nbformat_minor": 5
}
